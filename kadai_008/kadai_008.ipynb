{
  "nbformat": 4,
  "nbformat_minor": 0,
  "metadata": {
    "colab": {
      "provenance": []
    },
    "kernelspec": {
      "name": "python3",
      "display_name": "Python 3"
    },
    "language_info": {
      "name": "python"
    }
  },
  "cells": [
    {
      "cell_type": "code",
      "execution_count": 4,
      "metadata": {
        "colab": {
          "base_uri": "https://localhost:8080/",
          "height": 139
        },
        "id": "ImbSp6fqMLl7",
        "outputId": "c2e2b1e2-de6d-4ff4-9508-4c9be4685525"
      },
      "outputs": [
        {
          "output_type": "display_data",
          "data": {
            "text/plain": [
              "array([0, 1, 0, 0, 2, 2, 0, 0, 1, 0, 0, 0, 2, 1, 2, 0, 1, 0, 1, 1, 0, 0,\n",
              "       1, 1, 1, 1, 0, 2, 2, 0, 1, 1, 0, 0, 2, 2, 0, 2, 2, 1, 1, 2, 2, 0,\n",
              "       2, 1, 0, 2, 0, 1, 0, 1, 1, 0])"
            ]
          },
          "metadata": {}
        },
        {
          "output_type": "display_data",
          "data": {
            "text/plain": [
              "array([0, 1, 0, 0, 2, 2, 0, 0, 1, 0, 0, 0, 2, 1, 2, 0, 1, 0, 1, 0, 0, 0,\n",
              "       1, 1, 1, 1, 0, 2, 2, 0, 1, 1, 0, 0, 2, 2, 0, 2, 2, 1, 1, 1, 2, 0,\n",
              "       2, 1, 0, 2, 0, 1, 0, 1, 1, 0])"
            ]
          },
          "metadata": {}
        },
        {
          "output_type": "execute_result",
          "data": {
            "text/plain": [
              "0.9629629629629629"
            ]
          },
          "metadata": {},
          "execution_count": 4
        }
      ],
      "source": [
        "# 8章_課題\n",
        "# pandas、分割関数のインポート\n",
        "import pandas as pd\n",
        "from sklearn.model_selection import train_test_split\n",
        "\n",
        "# サンプルデータの取得\n",
        "from sklearn.datasets import load_wine\n",
        "dataset = load_wine()\n",
        "df = pd.DataFrame(data=dataset.data, columns=dataset.feature_names)\n",
        "df['category'] = dataset.target\n",
        "\n",
        "# サンプルデータの分割\n",
        "x = dataset.data\n",
        "y = dataset.target\n",
        "x_train, x_test, y_train, y_test = train_test_split(x, y, test_size=0.3, random_state=5)\n",
        "\n",
        "# インスタンス化:ランダムフェレスト\n",
        "from sklearn.ensemble import RandomForestClassifier\n",
        "model = RandomForestClassifier(random_state=3)\n",
        "\n",
        "# 予測モデルの学習\n",
        "model.fit(x_train, y_train)\n",
        "\n",
        "# 予測モデルの評価\n",
        "y_pred = model.predict(x_test)\n",
        "display(y_pred)\n",
        "display(y_test)\n",
        "from sklearn.metrics import accuracy_score\n",
        "accuracy_score(y_test, y_pred)"
      ]
    }
  ]
}