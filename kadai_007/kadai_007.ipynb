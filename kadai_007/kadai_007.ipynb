{
  "nbformat": 4,
  "nbformat_minor": 0,
  "metadata": {
    "colab": {
      "provenance": []
    },
    "kernelspec": {
      "name": "python3",
      "display_name": "Python 3"
    },
    "language_info": {
      "name": "python"
    }
  },
  "cells": [
    {
      "cell_type": "code",
      "execution_count": null,
      "metadata": {
        "id": "ZwGePj4vX9W4"
      },
      "outputs": [],
      "source": [
        "'''\n",
        "7章_課題\n",
        "1.カテゴリー列の要素(弁当、デザートなど)の出現頻度をカウントして\n",
        "    その結果を棒グラフで表示する\n",
        "2.商品番号列の商品番号ごとに、注文数の基本統計量を求める\n",
        "\n",
        "japanize_matplotlibのGoogle Colaboratoryでの使用\n",
        "pip install japanize-matplotlib\n",
        "'''\n",
        "# サンプルファイルをデータフレームとして読み込む\n",
        "df = pd.read_csv(\"sample_pandas_6.csv\")\n",
        "category_df = pd.read_csv('category.csv')\n",
        "# ファイルを結合する\n",
        "df = pd.merge(df, category_df[['商品番号', 'カテゴリー']], how='inner', on='商品番号')\n",
        "\n",
        "# 1.カテゴリー列の要素(弁当、デザートなど)の出現頻度をカウントして\n",
        "#   その結果を棒グラフで表示する\n",
        "# ライブラリをインポート\n",
        "import matplotlib.pyplot as plt\n",
        "import pandas as pd\n",
        "import japanize_matplotlib\n",
        "# カテゴリーの要素のユニークな出現頻度のカウント\n",
        "df_category_sum = df['カテゴリー'].value_counts()\n",
        "# 棒グラフの作成\n",
        "plt.title(\"カテゴリーごとの出現頻度\")\n",
        "df_category_sum.plot.bar()\n",
        "# 描画\n",
        "plt.show()\n",
        "\n",
        "# 2.商品番号列の商品番号ごとに、注文数の基本統計量を求める\n",
        "# 商品番号ごとの注文数を集計\n",
        "df_order_sum = df.groupby('商品番号')['注文数'].sum()\n",
        "display(df_order_sum)\n",
        "# データーフレームの基本統計量を算出\n",
        "df_bassta = df.groupby('商品番号')['注文数'].describe()\n",
        "display(df_bassta)"
      ]
    }
  ]
}