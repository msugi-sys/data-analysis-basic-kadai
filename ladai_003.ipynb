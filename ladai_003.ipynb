{
  "nbformat": 4,
  "nbformat_minor": 0,
  "metadata": {
    "colab": {
      "provenance": []
    },
    "kernelspec": {
      "name": "python3",
      "display_name": "Python 3"
    },
    "language_info": {
      "name": "python"
    }
  },
  "cells": [
    {
      "cell_type": "code",
      "source": [
        "\n",
        "import  numpy as np\n",
        "\n",
        "a_array = np.array([[0, 1], [2, 3], [4, 5]])\n",
        "b_array = np.array([[0, 1, 2, 3], [4, 5, 6, 7]])\n",
        "\n",
        "multi_array = np.dot(a_array, b_array)\n",
        "\n",
        "print(multi_array)\n",
        "multi_array.max()"
      ],
      "metadata": {
        "colab": {
          "base_uri": "https://localhost:8080/"
        },
        "id": "lvtztdah35Bc",
        "outputId": "c5bc09b9-838f-4bd4-cc65-3da9d1726e1c"
      },
      "execution_count": 6,
      "outputs": [
        {
          "output_type": "stream",
          "name": "stdout",
          "text": [
            "[[ 4  5  6  7]\n",
            " [12 17 22 27]\n",
            " [20 29 38 47]]\n"
          ]
        },
        {
          "output_type": "execute_result",
          "data": {
            "text/plain": [
              "47"
            ]
          },
          "metadata": {},
          "execution_count": 6
        }
      ]
    }
  ]
}